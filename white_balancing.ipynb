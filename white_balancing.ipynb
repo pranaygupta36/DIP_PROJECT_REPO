{
 "cells": [
  {
   "cell_type": "code",
   "execution_count": null,
   "metadata": {},
   "outputs": [],
   "source": [
    "from whiteBal import *\n",
    "import matplotlib.pyplot as plt"
   ]
  },
  {
   "cell_type": "code",
   "execution_count": null,
   "metadata": {},
   "outputs": [],
   "source": [
    "imf = cv2.imread('./dataset/potsWB_00_flash.jpg')\n",
    "ima = cv2.imread('./dataset/potsWB_01_noflash.jpg')\n",
    "\n",
    "imf = cv2.cvtColor(imf, cv2.COLOR_BGR2RGB)\n",
    "ima = cv2.cvtColor(ima, cv2.COLOR_BGR2RGB)\n",
    "\n",
    "out = whiteBal(ima, imf, 2)\n",
    "\n",
    "fig = plt.figure(figsize=[14, 14])\n",
    "plt.imshow(out)"
   ]
  },
  {
   "cell_type": "code",
   "execution_count": null,
   "metadata": {},
   "outputs": [],
   "source": []
  }
 ],
 "metadata": {
  "kernelspec": {
   "display_name": "Python 3",
   "language": "python",
   "name": "python3"
  },
  "language_info": {
   "codemirror_mode": {
    "name": "ipython",
    "version": 3
   },
   "file_extension": ".py",
   "mimetype": "text/x-python",
   "name": "python",
   "nbconvert_exporter": "python",
   "pygments_lexer": "ipython3",
   "version": "3.6.5"
  }
 },
 "nbformat": 4,
 "nbformat_minor": 2
}
